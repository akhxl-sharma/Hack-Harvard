{
 "cells": [
  {
   "cell_type": "code",
   "execution_count": 50,
   "metadata": {},
   "outputs": [
    {
     "ename": "ImportError",
     "evalue": "cannot import name 'map_at_k' from 'recommenders.evaluation.python_evaluation' (/Users/akhil/Downloads/Hack-Harvard/ai/recommenders/evaluation/python_evaluation.py)",
     "output_type": "error",
     "traceback": [
      "\u001b[0;31m---------------------------------------------------------------------------\u001b[0m",
      "\u001b[0;31mImportError\u001b[0m                               Traceback (most recent call last)",
      "\u001b[1;32m/Users/akhil/Downloads/Hack-Harvard/ai/recommender.ipynb Cell 1\u001b[0m line \u001b[0;36m1\n\u001b[1;32m      <a href='vscode-notebook-cell:/Users/akhil/Downloads/Hack-Harvard/ai/recommender.ipynb#W5sZmlsZQ%3D%3D?line=7'>8</a>\u001b[0m \u001b[39mfrom\u001b[39;00m \u001b[39mrecommenders\u001b[39;00m\u001b[39m.\u001b[39;00m\u001b[39mutils\u001b[39;00m\u001b[39m.\u001b[39;00m\u001b[39mconstants\u001b[39;00m \u001b[39mimport\u001b[39;00m SEED\n\u001b[1;32m      <a href='vscode-notebook-cell:/Users/akhil/Downloads/Hack-Harvard/ai/recommender.ipynb#W5sZmlsZQ%3D%3D?line=8'>9</a>\u001b[0m \u001b[39mfrom\u001b[39;00m \u001b[39mrecommenders\u001b[39;00m\u001b[39m.\u001b[39;00m\u001b[39mcornac\u001b[39;00m\u001b[39m.\u001b[39;00m\u001b[39mcornac_utils\u001b[39;00m \u001b[39mimport\u001b[39;00m predict_ranking\n\u001b[0;32m---> <a href='vscode-notebook-cell:/Users/akhil/Downloads/Hack-Harvard/ai/recommender.ipynb#W5sZmlsZQ%3D%3D?line=9'>10</a>\u001b[0m \u001b[39mfrom\u001b[39;00m \u001b[39mrecommenders\u001b[39;00m\u001b[39m.\u001b[39;00m\u001b[39mevaluation\u001b[39;00m\u001b[39m.\u001b[39;00m\u001b[39mpython_evaluation\u001b[39;00m \u001b[39mimport\u001b[39;00m map_at_k, ndcg_at_k, precision_at_k, recall_at_k\n\u001b[1;32m     <a href='vscode-notebook-cell:/Users/akhil/Downloads/Hack-Harvard/ai/recommender.ipynb#W5sZmlsZQ%3D%3D?line=10'>11</a>\u001b[0m \u001b[39mprint\u001b[39m(\u001b[39m\"\u001b[39m\u001b[39mSystem version: \u001b[39m\u001b[39m{}\u001b[39;00m\u001b[39m\"\u001b[39m\u001b[39m.\u001b[39mformat(sys\u001b[39m.\u001b[39mversion))\n\u001b[1;32m     <a href='vscode-notebook-cell:/Users/akhil/Downloads/Hack-Harvard/ai/recommender.ipynb#W5sZmlsZQ%3D%3D?line=11'>12</a>\u001b[0m \u001b[39mprint\u001b[39m(\u001b[39m\"\u001b[39m\u001b[39mCornac version: \u001b[39m\u001b[39m{}\u001b[39;00m\u001b[39m\"\u001b[39m\u001b[39m.\u001b[39mformat(cornac\u001b[39m.\u001b[39m__version__))\n",
      "\u001b[0;31mImportError\u001b[0m: cannot import name 'map_at_k' from 'recommenders.evaluation.python_evaluation' (/Users/akhil/Downloads/Hack-Harvard/ai/recommenders/evaluation/python_evaluation.py)"
     ]
    }
   ],
   "source": [
    "import sys\n",
    "sys.path.append('/Users/akhil/Downloads/Hack-Harvard/ai')\n",
    "import os \n",
    "import cornac \n",
    "import papermill as pm\n",
    "import scrapbook as sb \n",
    "from recommenders.utils.timer import Timer \n",
    "from recommenders.utils.constants import SEED\n",
    "from recommenders.cornac.cornac_utils import predict_ranking\n",
    "from recommenders.evaluation.python_evaluation import map_at_k, ndcg_at_k, precision_at_k, recall_at_k\n",
    "print(\"System version: {}\".format(sys.version))\n",
    "print(\"Cornac version: {}\".format(cornac.__version__))"
   ]
  },
  {
   "cell_type": "code",
   "execution_count": null,
   "metadata": {},
   "outputs": [],
   "source": []
  }
 ],
 "metadata": {
  "kernelspec": {
   "display_name": "Python 3",
   "language": "python",
   "name": "python3"
  },
  "language_info": {
   "codemirror_mode": {
    "name": "ipython",
    "version": 3
   },
   "file_extension": ".py",
   "mimetype": "text/x-python",
   "name": "python",
   "nbconvert_exporter": "python",
   "pygments_lexer": "ipython3",
   "version": "3.11.4"
  },
  "orig_nbformat": 4
 },
 "nbformat": 4,
 "nbformat_minor": 2
}
